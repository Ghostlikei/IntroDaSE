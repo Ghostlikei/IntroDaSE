{
 "cells": [
  {
   "cell_type": "code",
   "execution_count": 4,
   "metadata": {},
   "outputs": [
    {
     "name": "stdout",
     "output_type": "stream",
     "text": [
      "1 3 5 7 9 11 13 15 17 19 21 23 25 27 29 31 33 35 37 39 41 43 45 47 49 51 53 55 57 59 61 63 65 67 69 71 73 75 77 79 81 83 85 87 89 91 93 95 97 99 \n",
      "Result of mult: 58435841445947272053455474390625\n"
     ]
    }
   ],
   "source": [
    "# Created on 9/27\n",
    "# Dase101 lab4\n",
    "# Q1\n",
    "def main():\n",
    "    allOddNumber = []\n",
    "    mult = 1\n",
    "    for i in range(1,101):\n",
    "        if i % 2 != 0:\n",
    "            allOddNumber.append(i)\n",
    "            if i <= 50:\n",
    "                mult *= i\n",
    "    \n",
    "    for each in allOddNumber:\n",
    "        print(each, end = \" \")\n",
    "    print(\"\\nResult of mult:\",mult)    \n",
    "    \n",
    "main()"
   ]
  },
  {
   "cell_type": "code",
   "execution_count": 8,
   "metadata": {},
   "outputs": [
    {
     "name": "stdout",
     "output_type": "stream",
     "text": [
      "[5, 4, 3, 2, 1]\n",
      "[5, 4, 3, 2, 1]\n",
      "[5, 4, 3, 2, 1]\n"
     ]
    }
   ],
   "source": [
    "# Q2 reversePrint\n",
    "l = [1, 2, 3, 4, 5]\n",
    "\n",
    "forLoopList = []\n",
    "whileLoopList = []\n",
    "sliceList = []\n",
    "\n",
    "def forLoop():\n",
    "    for i in range(len(l)):\n",
    "        forLoopList.append(l[len(l)-1-i])\n",
    "\n",
    "def whileLoop():\n",
    "    i = len(l) - 1\n",
    "    while i >= 0:\n",
    "        whileLoopList.append(l[i])\n",
    "        i -= 1\n",
    "\n",
    "def slice():\n",
    "    global sliceList\n",
    "    sliceList = l[::-1]\n",
    "\n",
    "def main():\n",
    "    forLoop()\n",
    "    whileLoop()\n",
    "    slice()\n",
    "    print(forLoopList)\n",
    "    print(whileLoopList)\n",
    "    print(sliceList)\n",
    "main()"
   ]
  },
  {
   "cell_type": "code",
   "execution_count": 16,
   "metadata": {},
   "outputs": [
    {
     "name": "stdout",
     "output_type": "stream",
     "text": [
      "Max Same Substring of aaaaaaaaaaaaabccccdddddda: 14\n"
     ]
    }
   ],
   "source": [
    "# Q3\n",
    "string = \"abccccda\"\n",
    "def MaxSameSubstring(args):\n",
    "    maxLen = 0\n",
    "    for each in args:\n",
    "        cnt = 0\n",
    "        index = args.index(each)\n",
    "        while index < len(args):\n",
    "            if args[index] == each:\n",
    "                cnt += 1\n",
    "            index += 1\n",
    "        if cnt > maxLen:\n",
    "            maxLen = cnt\n",
    "    return maxLen\n",
    "\n",
    "def main():\n",
    "    print(f\"Max Same Substring of {string}: {MaxSameSubstring(string)}\")\n",
    "\n",
    "main()\n"
   ]
  },
  {
   "cell_type": "code",
   "execution_count": 18,
   "metadata": {},
   "outputs": [
    {
     "name": "stdout",
     "output_type": "stream",
     "text": [
      "DataScienceandEngineering\n"
     ]
    }
   ],
   "source": [
    "# Q4\n",
    "string = \"Data Science and Engineering\"\n",
    "print(string.replace(\" \",\"\"))"
   ]
  },
  {
   "cell_type": "code",
   "execution_count": 25,
   "metadata": {},
   "outputs": [
    {
     "name": "stdout",
     "output_type": "stream",
     "text": [
      "0.58476\n"
     ]
    }
   ],
   "source": [
    "# Q5\n",
    "import numpy as np\n",
    "\n",
    "def func(x):\n",
    "    return x**3 + x**2\n",
    "\n",
    "def MonteCarlo(function, start, end):\n",
    "    sum = 0\n",
    "    for i in range(100000):\n",
    "        x = np.random.uniform(start, end)\n",
    "        y = np.random.uniform(0, 2)\n",
    "        if function(x) > y:\n",
    "            sum += 1\n",
    "    sum = sum*2*(end - start)\n",
    "    sum /= 100000        \n",
    "    print(sum)\n",
    "\n",
    "MonteCarlo(func,0,1)"
   ]
  },
  {
   "cell_type": "code",
   "execution_count": 47,
   "metadata": {},
   "outputs": [
    {
     "name": "stdout",
     "output_type": "stream",
     "text": [
      "2\n",
      "binaryFind:  1.4142135623842478\n",
      "newtonFind:  1.4142135623746899\n",
      "monte carlo:  1.424\n"
     ]
    }
   ],
   "source": [
    "# Q6\n",
    "def abs(x):\n",
    "    return x if x > 0 else -x\n",
    "\n",
    "def binaryFind(target, precision):\n",
    "    left = 0\n",
    "    right = target + 1\n",
    "    mid = (left + right) / 2\n",
    "    while (abs(mid * mid - target) > precision):\n",
    "        if(mid * mid < target):\n",
    "            left = mid\n",
    "        else:\n",
    "            right = mid\n",
    "        mid = (left + right) / 2\n",
    "\n",
    "    return mid\n",
    "\n",
    "def newtonFind(target, precision):\n",
    "    half = target / 2\n",
    "    while abs(half * half - target) > precision:\n",
    "        half = (half + ((target) / half)) / 2\n",
    "\n",
    "    return half    \n",
    "\n",
    "\n",
    "\n",
    "def MonteCarlo(target):\n",
    "    def func(x):\n",
    "        return (0.5)*(x**(-0.5))\n",
    "    sum = 0\n",
    "    for i in range(100000):\n",
    "        x = np.random.uniform(0, target)\n",
    "        y = np.random.uniform(0, 100)\n",
    "        if func(x) > y:\n",
    "            sum += 1\n",
    "    sum = sum*100*(target)\n",
    "    sum /= 100000        \n",
    "    return sum\n",
    "\n",
    "def main():\n",
    "    print(abs(-2))\n",
    "    print(\"binaryFind: \", binaryFind(2, 0.0000000001))\n",
    "    print(\"newtonFind: \", newtonFind(2, 0.0000000001))\n",
    "    print(\"monte carlo: \", MonteCarlo(2))\n",
    "\n",
    "main()\n",
    "    \n"
   ]
  },
  {
   "cell_type": "code",
   "execution_count": 50,
   "metadata": {},
   "outputs": [
    {
     "name": "stdout",
     "output_type": "stream",
     "text": [
      "3.1414971543976273\n",
      "3.14524\n",
      "3.1416926635905345\n"
     ]
    }
   ],
   "source": [
    "# Q7 (Optional)\n",
    "def series():\n",
    "    # 1+ 1/2^2 + 1/3^2 +... = pi**2/6\n",
    "    sum = 0\n",
    "    for i in range(1, 10000):\n",
    "        sum += 1/(i*i)\n",
    "\n",
    "    return (sum*6)**0.5\n",
    "\n",
    "def monteCarlo():\n",
    "    sum = 0\n",
    "    for i in range(100000):\n",
    "        x = np.random.uniform(0, 1)\n",
    "        y = np.random.uniform(0, 1)\n",
    "        if x*x + y*y <= 1:\n",
    "            sum += 1\n",
    "    sum /= 100000\n",
    "    return sum*4\n",
    "\n",
    "def leibniz():\n",
    "    sgn = 1\n",
    "    sum = 0\n",
    "    for i in range(1, 10000):\n",
    "        sum += sgn*1/(2*i-1)\n",
    "        sgn = -sgn\n",
    "    return sum * 4\n",
    "\n",
    "def main():\n",
    "    print(series())\n",
    "    print(monteCarlo())\n",
    "    print(leibniz())\n",
    "\n",
    "main()    "
   ]
  }
 ],
 "metadata": {
  "interpreter": {
   "hash": "4ce0e62306dd6a5716965d4519ada776f947e6dfc145b604b11307c10277ef29"
  },
  "kernelspec": {
   "display_name": "Python 3.7.2 64-bit",
   "language": "python",
   "name": "python3"
  },
  "language_info": {
   "codemirror_mode": {
    "name": "ipython",
    "version": 3
   },
   "file_extension": ".py",
   "mimetype": "text/x-python",
   "name": "python",
   "nbconvert_exporter": "python",
   "pygments_lexer": "ipython3",
   "version": "3.7.2"
  },
  "orig_nbformat": 4
 },
 "nbformat": 4,
 "nbformat_minor": 2
}
