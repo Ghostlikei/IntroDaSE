{
 "cells": [
  {
   "cell_type": "code",
   "execution_count": 17,
   "metadata": {},
   "outputs": [
    {
     "name": "stdout",
     "output_type": "stream",
     "text": [
      "18 1 17 1 8 4 1 2 75 \n",
      "\n",
      "19 1 1 1 18 19 1 3 5 \n",
      "\n",
      "20 1 7 0 23 25 2 1 13 \n",
      "\n",
      "21 0 9 0 25 27 1 0 67 \n",
      "\n",
      "22 0 16 1 11 11 3 2 76 \n",
      "\n",
      "min:  0 ,max:  7\n",
      "20.6000\n",
      "37.64\n",
      "上海为 9106\n",
      "北京为 8084\n",
      "19时41辆\n",
      "18时62辆\n",
      "17时65辆\n"
     ]
    }
   ],
   "source": [
    "import pymysql\n",
    "import numpy\n",
    "\n",
    "db = pymysql.connect(host = \"cdb-r2g8flnu.bj.tencentcdb.com\", port = 10209, user = \"dase2020\", password = \"dase2020\", database = \"dase_intro_2020\")\n",
    "cursor = db.cursor()\n",
    "\n",
    "sql = \"SELECT * FROM bicycle_train LIMIT 17,5;\"\n",
    "cursor.execute(sql)\n",
    "res = cursor.fetchall()\n",
    "for tup in res:\n",
    "    for each in tup:\n",
    "        print(f\"{each}\",end=' ')\n",
    "    print(\"\\n\")\n",
    "\n",
    "sql = \"SELECT wind FROM bicycle_train ORDER BY wind;\"\n",
    "cursor.execute(sql)\n",
    "res = cursor.fetchall()\n",
    "print(\"min: \", res[0][0], \",max: \", res[-1][0])\n",
    "\n",
    "sql = \"SELECT AVG(temp_air) FROM bicycle_train WHERE city=0 AND hour=10 AND weather=1 AND (wind=0 OR wind=1) AND y>=100;\"\n",
    "cursor.execute(sql)\n",
    "res = cursor.fetchall()\n",
    "print(res[0][0])\n",
    "\n",
    "sql = \"SELECT temp_air FROM bicycle_train WHERE city=0 AND hour=10 AND weather=1 AND (wind=0 OR wind=1) AND y>=100;\"\n",
    "cursor.execute(sql)\n",
    "res = cursor.fetchall()\n",
    "\n",
    "temp = []\n",
    "sum = 0\n",
    "cnt = 0\n",
    "for each_line in res:\n",
    "    entry = each_line[0]\n",
    "    temp.append(entry)\n",
    "    sum += entry\n",
    "    cnt += 1\n",
    "\n",
    "mean = sum / cnt\n",
    "square_sum = 0\n",
    "for each in temp:\n",
    "    square_sum += (each-mean)**2\n",
    "print(square_sum/cnt)\n",
    "\n",
    "sql = \"SELECT city , SUM(y) FROM bicycle_train WHERE is_workday=1 AND weather=3 GROUP BY city ORDER BY SUM(y) DESC;\"\n",
    "cursor.execute(sql)\n",
    "res = cursor.fetchall()\n",
    "for each_line in res:\n",
    "    if each_line[0] == 0:\n",
    "        print(\"北京为\",each_line[1])\n",
    "    else:\n",
    "        print(\"上海为\",each_line[1])\n",
    "\n",
    "sql = \"SELECT hour,AVG(y) FROM bicycle_train WHERE hour BETWEEN 17 AND 19 AND city=1 AND is_workday=1 AND temp_body<=10 GROUP BY hour ORDER BY AVG(y);\"\n",
    "cursor.execute(sql)\n",
    "res = cursor.fetchall()\n",
    "for each_line in res:\n",
    "    print(f\"{each_line[0]}时{int(each_line[1])}辆\")"
   ]
  }
 ],
 "metadata": {
  "kernelspec": {
   "display_name": "Python 3.9.12 ('base')",
   "language": "python",
   "name": "python3"
  },
  "language_info": {
   "codemirror_mode": {
    "name": "ipython",
    "version": 3
   },
   "file_extension": ".py",
   "mimetype": "text/x-python",
   "name": "python",
   "nbconvert_exporter": "python",
   "pygments_lexer": "ipython3",
   "version": "3.9.12"
  },
  "orig_nbformat": 4,
  "vscode": {
   "interpreter": {
    "hash": "38cca0c38332a56087b24af0bc80247f4fced29cb4f7f437d91dc159adec9c4e"
   }
  }
 },
 "nbformat": 4,
 "nbformat_minor": 2
}
