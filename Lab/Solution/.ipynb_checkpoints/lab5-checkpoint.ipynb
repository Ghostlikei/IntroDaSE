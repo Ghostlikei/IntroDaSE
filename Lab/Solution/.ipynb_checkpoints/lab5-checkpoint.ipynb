{
 "cells": [
  {
   "cell_type": "code",
   "execution_count": 2,
   "metadata": {},
   "outputs": [
    {
     "name": "stdout",
     "output_type": "stream",
     "text": [
      "[6.67839229e-06 1.71411145e-05 3.83372890e-05 ... 9.99583098e-01\n",
      " 9.99587788e-01 9.99886317e-01]\n"
     ]
    }
   ],
   "source": [
    "# Q1 bubble sort\n",
    "import numpy as np\n",
    "def bubble_sort(array):\n",
    "    length = len(array)\n",
    "    for i in range(length):\n",
    "        for j in range(length - i - 1):\n",
    "            if array[j] > array[j+1]:\n",
    "                (array[j], array[j+1]) = (array[j+1], array[j])\n",
    "    return array\n",
    "\n",
    "def simulation():\n",
    "    arr = np.random.rand(1000)\n",
    "    print(bubble_sort(arr))\n",
    "\n",
    "simulation()\n"
   ]
  },
  {
   "cell_type": "code",
   "execution_count": 3,
   "metadata": {},
   "outputs": [
    {
     "name": "stdout",
     "output_type": "stream",
     "text": [
      "Brute search time:  0.02372804099991299\n",
      "Binary search time:  1.2250000054336851e-05\n"
     ]
    }
   ],
   "source": [
    "#Q2\n",
    "# 测试暴力查找和二分查找的效率差距\n",
    "import time\n",
    "import numpy as np\n",
    "def brute_search(array, key):\n",
    "    i = 0\n",
    "    for each in array:\n",
    "        if each == key:\n",
    "            return i\n",
    "        i += 1\n",
    "    return -1\n",
    "\n",
    "def binary_search(array, key):\n",
    "    return _binary_search(array, key, 0, len(array) - 1)\n",
    "\n",
    "def _binary_search(array, key, left, right):\n",
    "    if right < left:\n",
    "        return -1\n",
    "    mid = (left + right) // 2\n",
    "    if key < array[mid]:\n",
    "        _binary_search(array, key, left, mid-1)\n",
    "    elif key > array[mid]:\n",
    "        _binary_search(array, key, mid+1, right)\n",
    "    else:\n",
    "        return mid\n",
    "\n",
    "def time_test():\n",
    "    arr = np.random.randint(10000000, size = 100000)\n",
    "    arr = np.sort(arr)\n",
    "    t1 = time.perf_counter()\n",
    "    brute_search(arr, 9950293)\n",
    "    t2 = time.perf_counter()\n",
    "    binary_search(arr, 9950293)\n",
    "    t3 = time.perf_counter()\n",
    "    \n",
    "    print(\"Brute search time: \", t2-t1)\n",
    "    print(\"Binary search time: \", t3-t2)\n",
    "\n",
    "time_test()"
   ]
  }
 ],
 "metadata": {
  "kernelspec": {
   "display_name": "Python 3 (ipykernel)",
   "language": "python",
   "name": "python3"
  },
  "language_info": {
   "codemirror_mode": {
    "name": "ipython",
    "version": 3
   },
   "file_extension": ".py",
   "mimetype": "text/x-python",
   "name": "python",
   "nbconvert_exporter": "python",
   "pygments_lexer": "ipython3",
   "version": "3.9.12"
  },
  "vscode": {
   "interpreter": {
    "hash": "38cca0c38332a56087b24af0bc80247f4fced29cb4f7f437d91dc159adec9c4e"
   }
  }
 },
 "nbformat": 4,
 "nbformat_minor": 2
}
