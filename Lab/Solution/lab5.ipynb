{
 "cells": [
  {
   "cell_type": "code",
   "execution_count": 12,
   "id": "d7e317c8",
   "metadata": {
    "scrolled": true
   },
   "outputs": [
    {
     "name": "stdout",
     "output_type": "stream",
     "text": [
      "Your IPV4 address is:192.168.171.130\n",
      "[0, 0, 0, 0, 0, 0, 1, 1]\n",
      "[0, 0, 0, 1, 0, 1, 0, 1]\n",
      "[1, 1, 0, 1, 0, 1, 0, 1]\n",
      "[0, 1, 0, 0, 0, 0, 0, 1]\n",
      "11000000101010001010101110000010\n"
     ]
    }
   ],
   "source": [
    "# Question 1: transfer ipv4 into binary\n",
    "def transfer(ip) -> int:\n",
    "    binary_list = [];\n",
    "    ip_list = ip.split(\".\");\n",
    "    if len(ip_list) != 4:\n",
    "        raise AttributeError(\"Invalid ipv4 address!\")\n",
    "\n",
    "    for each in ip_list:\n",
    "        binary_list.append(dec_to_binary(int(each)))\n",
    "    \n",
    "    return list_to_int(binary_list)\n",
    "\n",
    "def dec_to_binary(dec) -> int:\n",
    "    binary = []\n",
    "    while dec > 0:\n",
    "        bit = dec % 2\n",
    "        binary.append(bit)\n",
    "        dec //= 2\n",
    "    return list_to_int(binary[::-1])\n",
    "\n",
    "def list_to_int(int_list) -> int:\n",
    "    string = \"\"\n",
    "    for each in int_list:\n",
    "        string += str(each)\n",
    "    return int(string)\n",
    "    \n",
    "def main():\n",
    "    ip = input(\"Your IPV4 address is:\")\n",
    "    print(transfer(ip))\n",
    "\n",
    "main()\n",
    "    "
   ]
  },
  {
   "cell_type": "code",
   "execution_count": 16,
   "id": "14202a21",
   "metadata": {},
   "outputs": [
    {
     "name": "stdout",
     "output_type": "stream",
     "text": [
      "[1, 2, 4, 8]\n",
      "8\n",
      "1\n",
      "[2, 4, 8, 5]\n"
     ]
    }
   ],
   "source": [
    "# Question 2\n",
    "# Implement the data structure 'Queue' with python class\n",
    "class Queue:\n",
    "    def __init__(self):\n",
    "        self.len = 0\n",
    "        self._container = []\n",
    "        \n",
    "    def enqueue(self, value):\n",
    "        self._container.append(value)\n",
    "        self.len += 1\n",
    "        \n",
    "    def dequeue(self):\n",
    "        if self.len == 0:\n",
    "            raise IndexError(\"There are no elements in the queue\")\n",
    "        self._container = self._container[1:]\n",
    "        self.len -= 1\n",
    "    \n",
    "    def back(self):\n",
    "        if self.len == 0:\n",
    "            raise IndexError(\"There are no elements in the queue\")\n",
    "        ret = self._container[0]\n",
    "        return ret\n",
    "        \n",
    "    def front(self):\n",
    "        if self.len == 0:\n",
    "            raise IndexError(\"There are no elements in the queue\")\n",
    "        ret = self._container[-1]\n",
    "        return ret\n",
    "    \n",
    "    def show_queue(self):\n",
    "        print(self._container)\n",
    "        \n",
    "    def empty(self):\n",
    "        return self.len == 0\n",
    "        \n",
    "def test():\n",
    "    q = Queue()\n",
    "    q.enqueue(1)\n",
    "    q.enqueue(2)\n",
    "    q.enqueue(4)\n",
    "    q.enqueue(8)\n",
    "    q.show_queue()\n",
    "    print(q.front())\n",
    "    print(q.back())\n",
    "    q.enqueue(5)\n",
    "    q.dequeue()\n",
    "    q.show_queue()\n",
    "    \n",
    "test()"
   ]
  },
  {
   "cell_type": "code",
   "execution_count": 32,
   "id": "93631d22",
   "metadata": {},
   "outputs": [
    {
     "name": "stdout",
     "output_type": "stream",
     "text": [
      "3 5 1 6 2 0 8 7 4 \n",
      "\n",
      "6 7 4 0 8 "
     ]
    }
   ],
   "source": [
    "# Question 3, 4\n",
    "# 这里重写了一个二叉树\n",
    "\n",
    "class binaryTree():\n",
    "    def __init__(self, data, left=None, right=None):\n",
    "        self.left = left\n",
    "        self.right = right\n",
    "        self.data = data\n",
    "        \n",
    "    def preOrder(self):\n",
    "        if self.data == None:\n",
    "            return\n",
    "        print(self.data, end = \" \")\n",
    "        preOrder(self.left)\n",
    "        preOrder(self.right)\n",
    "        \n",
    "    def postOrder(self):\n",
    "        if self.data == None:\n",
    "            return\n",
    "        \n",
    "        postOrder(self.left)\n",
    "        postOrder(self.right)\n",
    "        print(self.data, end = \" \")\n",
    "        \n",
    "    def midOrder(self):\n",
    "        if self.data == None:\n",
    "            return\n",
    "        \n",
    "        midOrder(self.left)\n",
    "        print(self.data, end = \" \")\n",
    "        midOrder(self.right)\n",
    "        \n",
    "    def traversal(self):\n",
    "        q = Queue()\n",
    "        q.enqueue(self)\n",
    "        while not q.empty():\n",
    "            node = q.back()\n",
    "            print(node.data, end=\" \")\n",
    "            if node.left:\n",
    "                q.enqueue(node.left)\n",
    "            if node.right:\n",
    "                q.enqueue(node.right)\n",
    "            q.dequeue()\n",
    "            \n",
    "    def leaf(self):\n",
    "        if self.data == None:\n",
    "            return\n",
    "        if self.left == None and self.right == None:\n",
    "            print(self.data, end = \" \")\n",
    "        if self.left:\n",
    "            self.left.leaf()\n",
    "        if self.right:\n",
    "            self.right.leaf()\n",
    "\n",
    "def test():\n",
    "    layer3_2 = binaryTree(2,binaryTree(7),binaryTree(4))\n",
    "    layer2_5 = binaryTree(5,binaryTree(6),layer3_2)\n",
    "    layer2_1 = binaryTree(1,binaryTree(0),binaryTree(8))\n",
    "    layer1_3 = binaryTree(3,layer2_5,layer2_1)\n",
    "    \n",
    "    layer1_3.traversal()\n",
    "    print(\"\\n\")\n",
    "    layer1_3.leaf()\n",
    "    \n",
    "test()"
   ]
  },
  {
   "cell_type": "code",
   "execution_count": 45,
   "id": "fcd1d8a8",
   "metadata": {},
   "outputs": [
    {
     "name": "stdout",
     "output_type": "stream",
     "text": [
      "Phone number is: 16317293829\n",
      "Invalid\n"
     ]
    }
   ],
   "source": [
    "# Question 5\n",
    "import re\n",
    "phone = input(\"Phone number is: \")\n",
    "pattern = r'1([38][0-9]|4[579]|5[0-3,5-9]|6[6]|7[0135678]|9[89])\\d{8}'\n",
    "result = re.match(pattern, phone)\n",
    "if result:\n",
    "    print(\"Valid\")\n",
    "else:\n",
    "    print(\"Invalid\")"
   ]
  }
 ],
 "metadata": {
  "kernelspec": {
   "display_name": "Python 3 (ipykernel)",
   "language": "python",
   "name": "python3"
  },
  "language_info": {
   "codemirror_mode": {
    "name": "ipython",
    "version": 3
   },
   "file_extension": ".py",
   "mimetype": "text/x-python",
   "name": "python",
   "nbconvert_exporter": "python",
   "pygments_lexer": "ipython3",
   "version": "3.9.12"
  }
 },
 "nbformat": 4,
 "nbformat_minor": 5
}
