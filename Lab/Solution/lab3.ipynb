{
 "cells": [
  {
   "cell_type": "code",
   "execution_count": 4,
   "metadata": {},
   "outputs": [
    {
     "name": "stdout",
     "output_type": "stream",
     "text": [
      "20! = 2432902008176640000\n"
     ]
    }
   ],
   "source": [
    "# Question 1\n",
    "def frac(x) -> int:\n",
    "    if type(x) != int:\n",
    "        raise TypeError(\"You must input an integer!\")\n",
    "    if x < 0:\n",
    "        raise ArithmeticError(\"Cannot calculate a negative int fraction!\")    \n",
    "    if x == 0:\n",
    "        return 1\n",
    "    else:\n",
    "        return x*frac(x-1)\n",
    "\n",
    "def test():\n",
    "    testNumber = int(input(\"Please input an integer: \"))\n",
    "    print(f\"{testNumber}! = {frac(testNumber)}\")\n",
    "\n",
    "test() "
   ]
  },
  {
   "cell_type": "code",
   "execution_count": 5,
   "metadata": {},
   "outputs": [
    {
     "name": "stdout",
     "output_type": "stream",
     "text": [
      "3.0\n"
     ]
    }
   ],
   "source": [
    "# Question 2\n",
    "import math\n",
    "print(math.pow(27,1/3))"
   ]
  },
  {
   "cell_type": "code",
   "execution_count": 37,
   "metadata": {},
   "outputs": [
    {
     "name": "stdout",
     "output_type": "stream",
     "text": [
      "7\n"
     ]
    }
   ],
   "source": [
    "# Question 3\n",
    "coins = []\n",
    "def setAnswer(size, key):\n",
    "    global coins\n",
    "    coins = [2 for i in range(size)]\n",
    "    coins[key] = 1\n",
    "\n",
    "def find(start, end) -> int:\n",
    "    if type(start) != int or type(end) != int:\n",
    "        raise TypeError(\"Start or End must be an integer!\") \n",
    "    \n",
    "    mid = (start + end) // 2\n",
    "    if coins[mid] == 1:\n",
    "        print(mid)\n",
    "        return\n",
    "\n",
    "\n",
    "    leftHalf = sum(coins[start: mid])\n",
    "    rightHalf = sum(coins[mid + 1:end])\n",
    "\n",
    "    if leftHalf < 2 * (mid - start):\n",
    "        find(start, mid - 1)\n",
    "    elif rightHalf < 2 * (end - mid):\n",
    "        find(mid + 1, end)\n",
    "    \n",
    "    return\n",
    "\n",
    "def main():\n",
    "    find(0, len(coins) - 1)\n",
    "\n",
    "setAnswer(15, 7)\n",
    "main()"
   ]
  },
  {
   "cell_type": "code",
   "execution_count": 24,
   "metadata": {},
   "outputs": [
    {
     "name": "stdout",
     "output_type": "stream",
     "text": [
      "11.7995\n"
     ]
    }
   ],
   "source": [
    "import numpy as np\n",
    "\n",
    "def func(x):\n",
    "    return x*x + 4*x*np.sin(x)\n",
    "\n",
    "def MonteCarlo(function, start, end):\n",
    "    sum = 0\n",
    "    for i in range(100000):\n",
    "        x = np.random.uniform(start, end)\n",
    "        y = np.random.uniform(0, 25)\n",
    "        if function(x) > y:\n",
    "            sum += 1\n",
    "    sum = sum*25*(end - start)\n",
    "    sum /= 100000        \n",
    "    print(sum)\n",
    "\n",
    "MonteCarlo(func,2,3)"
   ]
  }
 ],
 "metadata": {
  "interpreter": {
   "hash": "4ce0e62306dd6a5716965d4519ada776f947e6dfc145b604b11307c10277ef29"
  },
  "kernelspec": {
   "display_name": "Python 3.7.2 64-bit",
   "language": "python",
   "name": "python3"
  },
  "language_info": {
   "codemirror_mode": {
    "name": "ipython",
    "version": 3
   },
   "file_extension": ".py",
   "mimetype": "text/x-python",
   "name": "python",
   "nbconvert_exporter": "python",
   "pygments_lexer": "ipython3",
   "version": "3.7.2"
  },
  "orig_nbformat": 4
 },
 "nbformat": 4,
 "nbformat_minor": 2
}
