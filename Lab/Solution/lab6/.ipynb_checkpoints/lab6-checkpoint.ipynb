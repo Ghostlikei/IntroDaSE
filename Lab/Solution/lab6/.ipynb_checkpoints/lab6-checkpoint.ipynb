{
 "cells": [
  {
   "cell_type": "code",
   "execution_count": 7,
   "metadata": {},
   "outputs": [],
   "source": [
    "## write file for read()\n",
    "def test_write():\n",
    "    with open(\"./test_write.txt\", \"w\") as f:\n",
    "        f.writelines(\"Writing line 1\\n\")\n",
    "        f.writelines(\"Writing line 2...\")\n",
    "\n",
    "test_write()"
   ]
  },
  {
   "cell_type": "code",
   "execution_count": 10,
   "metadata": {},
   "outputs": [
    {
     "name": "stdout",
     "output_type": "stream",
     "text": [
      "Writing line 1\n",
      "\n",
      "['Writing line 2...']\n"
     ]
    }
   ],
   "source": [
    "# Practice 1\n",
    "def test_read():\n",
    "    with open(\"./test_write.txt\") as f:\n",
    "        print(f.readline())\n",
    "        print(f.readlines())\n",
    "\n",
    "test_read()"
   ]
  },
  {
   "cell_type": "code",
   "execution_count": 19,
   "metadata": {},
   "outputs": [
    {
     "name": "stdout",
     "output_type": "stream",
     "text": [
      "Average grades: 82.6 81.0 81.8\n"
     ]
    }
   ],
   "source": [
    "import csv\n",
    "import time\n",
    "\n",
    "# Practice 2\n",
    "\n",
    "def main():\n",
    "    with open(\"../../data/stuGrade.csv\") as csvFile:\n",
    "        infos = []\n",
    "        csvReader = csv.reader(csvFile)\n",
    "        for row in csvReader:\n",
    "            infos.append(row)\n",
    "    \n",
    "    chinese = 0\n",
    "    math = 0\n",
    "    english = 0\n",
    "    for each in infos[1:]:\n",
    "        chinese += int(each[1])\n",
    "        math += int(each[2])\n",
    "        english += int(each[3])\n",
    "    \n",
    "    print(\"Average grades:\", chinese/5, math/5, english/5)\n",
    "    \n",
    "    # Practice 3\n",
    "    with open(\"./my.txt\", \"w\", encoding=\"utf8\") as f:\n",
    "        f.write(\"10215501403 沈桐乐\\n\")\n",
    "        f.write(\"{:.2f} {:.2f} {:.2f}\\n\".format(chinese/5, math/5, english/5))\n",
    "        f.write(time.strftime(\"%Y-%m-%d %H:%M:%S\\n\",time.localtime()))\n",
    "        time.sleep(2)\n",
    "        f.write(time.strftime(\"%Y-%m-%d %H:%M:%S\",time.localtime()))\n",
    "        \n",
    "            \n",
    "main()"
   ]
  }
 ],
 "metadata": {
  "kernelspec": {
   "display_name": "Python 3 (ipykernel)",
   "language": "python",
   "name": "python3"
  },
  "language_info": {
   "codemirror_mode": {
    "name": "ipython",
    "version": 3
   },
   "file_extension": ".py",
   "mimetype": "text/x-python",
   "name": "python",
   "nbconvert_exporter": "python",
   "pygments_lexer": "ipython3",
   "version": "3.9.12"
  },
  "vscode": {
   "interpreter": {
    "hash": "b0fa6594d8f4cbf19f97940f81e996739fb7646882a419484c72d19e05852a7e"
   }
  }
 },
 "nbformat": 4,
 "nbformat_minor": 2
}
